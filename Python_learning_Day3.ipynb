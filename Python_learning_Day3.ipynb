{
  "nbformat": 4,
  "nbformat_minor": 0,
  "metadata": {
    "colab": {
      "provenance": []
    },
    "kernelspec": {
      "name": "python3",
      "display_name": "Python 3"
    },
    "language_info": {
      "name": "python"
    }
  },
  "cells": [
    {
      "cell_type": "code",
      "execution_count": null,
      "metadata": {
        "colab": {
          "base_uri": "https://localhost:8080/"
        },
        "id": "RbCGWIc5wFXq",
        "outputId": "f3f87dfe-bbcd-488a-956b-f689a1f8ec0b"
      },
      "outputs": [
        {
          "output_type": "stream",
          "name": "stdout",
          "text": [
            "divisible by 2\n"
          ]
        }
      ],
      "source": [
        "# nested if-else\n",
        "# condition dusri codition\n",
        "# num => 2\n",
        "# 5 => 2 and 5 both\n",
        "# divisible by 2\n",
        "num=18\n",
        "if(num%2==0):\n",
        "  if(num%5==0):\n",
        "    print(\"divisible by 2 and 5\")\n",
        "  else:\n",
        "    print(\"divisible by 2\")\n",
        "else:\n",
        "    print(\"not divisible by 2\")"
      ]
    },
    {
      "cell_type": "code",
      "source": [
        "age=5\n",
        "city=\"jaipur\"\n",
        "if(age<=5):\n",
        "  if(age>5):\n",
        "    print(\"age less than 5\")\n",
        "  else:\n",
        "    print(\"age greater than 5\",city)\n"
      ],
      "metadata": {
        "colab": {
          "base_uri": "https://localhost:8080/"
        },
        "id": "_6yC9eLD57CV",
        "outputId": "ec24e1dc-52ac-4fd9-8e18-848250540ea5"
      },
      "execution_count": null,
      "outputs": [
        {
          "output_type": "stream",
          "name": "stdout",
          "text": [
            "age greater than 5 jaipur\n"
          ]
        }
      ]
    },
    {
      "cell_type": "code",
      "source": [
        "adhar=True\n",
        "pan=False\n",
        "if(adhar==True):\n",
        "  print(\"only adhar\")\n",
        "  if(pan==True):\n",
        "    print(\"both adhar and pan for account\")\n",
        "  else:\n",
        "    print(\"not applicable for account\")"
      ],
      "metadata": {
        "colab": {
          "base_uri": "https://localhost:8080/"
        },
        "id": "Szoi38zr7C6m",
        "outputId": "0eae6223-f246-4d52-8a42-d8eebc60a0c9"
      },
      "execution_count": null,
      "outputs": [
        {
          "output_type": "stream",
          "name": "stdout",
          "text": [
            "only adhar\n",
            "not applicable for account\n"
          ]
        }
      ]
    },
    {
      "cell_type": "code",
      "source": [
        "x=int(input(\"enter the value of x:\"))\n",
        "y=int(input(\"enter the value of y:\"))\n",
        "if(x==1):\n",
        "  if(y>=10):\n",
        "    print(\"monday value is greater than 10\")\n",
        "  else:\n",
        "    print(\"monday\")\n",
        "elif(x==2):\n",
        "    print(\"tuesday\")\n",
        "elif(x==3):\n",
        "    print(\"wednesday\")\n",
        "else:\n",
        "    print(\"invalid\")"
      ],
      "metadata": {
        "colab": {
          "base_uri": "https://localhost:8080/"
        },
        "id": "9AoQAxkj7zTi",
        "outputId": "8f548669-4aa4-42ab-e5dc-5d0006457286"
      },
      "execution_count": null,
      "outputs": [
        {
          "output_type": "stream",
          "name": "stdout",
          "text": [
            "enter the value of x:3\n",
            "enter the value of y:10\n",
            "wednesday\n"
          ]
        }
      ]
    },
    {
      "cell_type": "code",
      "source": [
        "num=6\n",
        "option=int(input(\"enter number\"))\n",
        "if(option==1):\n",
        "  x=int(input(\"enter the value of x:\"))\n",
        "  num=num+x\n",
        "else:\n",
        "  print(\"option is false\")\n",
        "\n",
        "print(num)"
      ],
      "metadata": {
        "colab": {
          "base_uri": "https://localhost:8080/"
        },
        "id": "SsAifBkL9rcF",
        "outputId": "dc2af05a-724f-448e-bae7-bf21c0085d22"
      },
      "execution_count": null,
      "outputs": [
        {
          "output_type": "stream",
          "name": "stdout",
          "text": [
            "enter number2\n",
            "option is false\n",
            "6\n"
          ]
        }
      ]
    },
    {
      "cell_type": "code",
      "source": [
        "# string formatting\n",
        "name=\"regex software\"\n",
        "year=2025\n",
        "print(\"my company is:\",name,\"year is:\",year)"
      ],
      "metadata": {
        "colab": {
          "base_uri": "https://localhost:8080/"
        },
        "id": "TGAhKog5_zHy",
        "outputId": "17b400e8-bcf4-4f9f-e820-5139be82db91"
      },
      "execution_count": null,
      "outputs": [
        {
          "output_type": "stream",
          "name": "stdout",
          "text": [
            "my company is: regex software year is: 2025\n"
          ]
        }
      ]
    },
    {
      "cell_type": "code",
      "source": [
        "# f => formatting {variable} => substitute\n",
        "print(f\"my company is {name} year is {year}\")"
      ],
      "metadata": {
        "colab": {
          "base_uri": "https://localhost:8080/"
        },
        "id": "7aSP5tpDA70I",
        "outputId": "86809624-9f58-40f6-8142-f6d85352461c"
      },
      "execution_count": null,
      "outputs": [
        {
          "output_type": "stream",
          "name": "stdout",
          "text": [
            "my company is regex software year is 2025\n"
          ]
        }
      ]
    },
    {
      "cell_type": "code",
      "source": [
        "# string => indexing and slicing\n",
        "city=\"Rajasthan\"\n",
        "city[0]"
      ],
      "metadata": {
        "colab": {
          "base_uri": "https://localhost:8080/",
          "height": 36
        },
        "id": "8gFV9TV8CN6g",
        "outputId": "a5807abc-2dca-4237-964f-7919505213c4"
      },
      "execution_count": null,
      "outputs": [
        {
          "output_type": "execute_result",
          "data": {
            "text/plain": [
              "'R'"
            ],
            "application/vnd.google.colaboratory.intrinsic+json": {
              "type": "string"
            }
          },
          "metadata": {},
          "execution_count": 28
        }
      ]
    },
    {
      "cell_type": "code",
      "source": [
        "city=\"Rajasthan\"\n",
        "city[-4]"
      ],
      "metadata": {
        "colab": {
          "base_uri": "https://localhost:8080/",
          "height": 36
        },
        "id": "6mabuorAC1k8",
        "outputId": "33b3eb9d-2b71-43f0-8506-7ab84ac4bb93"
      },
      "execution_count": null,
      "outputs": [
        {
          "output_type": "execute_result",
          "data": {
            "text/plain": [
              "'t'"
            ],
            "application/vnd.google.colaboratory.intrinsic+json": {
              "type": "string"
            }
          },
          "metadata": {},
          "execution_count": 29
        }
      ]
    },
    {
      "cell_type": "code",
      "source": [
        "# slicing operator\n",
        "# position data extract\n",
        "# stopping is exclusive\n",
        "# [start : stop : [step=1]]"
      ],
      "metadata": {
        "id": "zf9NXx_uC7YZ"
      },
      "execution_count": null,
      "outputs": []
    },
    {
      "cell_type": "code",
      "source": [
        "city=\"Rajasthan\"\n",
        "city[0:6]\n",
        "# 0 +1=>1 +1=>2 2+1=>3"
      ],
      "metadata": {
        "colab": {
          "base_uri": "https://localhost:8080/",
          "height": 36
        },
        "id": "xG5OelwfDK-a",
        "outputId": "00266c04-1189-4096-d3e3-5332f20b2e26"
      },
      "execution_count": null,
      "outputs": [
        {
          "output_type": "execute_result",
          "data": {
            "text/plain": [
              "'Rajast'"
            ],
            "application/vnd.google.colaboratory.intrinsic+json": {
              "type": "string"
            }
          },
          "metadata": {},
          "execution_count": 34
        }
      ]
    },
    {
      "cell_type": "code",
      "source": [
        "city=\"Rajasthan\"\n",
        "city[0:6:2]\n",
        "# 0+2=>2"
      ],
      "metadata": {
        "colab": {
          "base_uri": "https://localhost:8080/",
          "height": 36
        },
        "id": "oI4uYgCoDO7p",
        "outputId": "84a4b0f8-84d7-4df3-c5a7-52aa7015c02b"
      },
      "execution_count": null,
      "outputs": [
        {
          "output_type": "execute_result",
          "data": {
            "text/plain": [
              "'Rjs'"
            ],
            "application/vnd.google.colaboratory.intrinsic+json": {
              "type": "string"
            }
          },
          "metadata": {},
          "execution_count": 36
        }
      ]
    },
    {
      "cell_type": "code",
      "source": [
        "city=\"Rajasthan\"\n",
        "city[2:7:3]"
      ],
      "metadata": {
        "colab": {
          "base_uri": "https://localhost:8080/",
          "height": 36
        },
        "id": "CgiUJTSVEjAe",
        "outputId": "6d3b745c-3b36-423e-9a39-4e0073a089a1"
      },
      "execution_count": null,
      "outputs": [
        {
          "output_type": "execute_result",
          "data": {
            "text/plain": [
              "'jt'"
            ],
            "application/vnd.google.colaboratory.intrinsic+json": {
              "type": "string"
            }
          },
          "metadata": {},
          "execution_count": 37
        }
      ]
    },
    {
      "cell_type": "code",
      "source": [
        "city=\"Rajasthan\"\n",
        "city[2:7:2]"
      ],
      "metadata": {
        "colab": {
          "base_uri": "https://localhost:8080/",
          "height": 36
        },
        "id": "veZUVlR-Ewyd",
        "outputId": "bccf7bc1-8df1-4641-f890-c57d6e81d314"
      },
      "execution_count": null,
      "outputs": [
        {
          "output_type": "execute_result",
          "data": {
            "text/plain": [
              "'jsh'"
            ],
            "application/vnd.google.colaboratory.intrinsic+json": {
              "type": "string"
            }
          },
          "metadata": {},
          "execution_count": 38
        }
      ]
    },
    {
      "cell_type": "code",
      "source": [
        "city=\"Rajasthan\"\n",
        "city[2:7:-1]"
      ],
      "metadata": {
        "colab": {
          "base_uri": "https://localhost:8080/",
          "height": 36
        },
        "id": "JRtxZQDsE82v",
        "outputId": "6dda06ca-2a63-41ab-d294-4dffa4f7ea41"
      },
      "execution_count": null,
      "outputs": [
        {
          "output_type": "execute_result",
          "data": {
            "text/plain": [
              "''"
            ],
            "application/vnd.google.colaboratory.intrinsic+json": {
              "type": "string"
            }
          },
          "metadata": {},
          "execution_count": 40
        }
      ]
    },
    {
      "cell_type": "code",
      "source": [
        "city=\"Rajasthan\"\n",
        "city[-1:-4:1]"
      ],
      "metadata": {
        "colab": {
          "base_uri": "https://localhost:8080/",
          "height": 36
        },
        "id": "SLq4vV0EFAv-",
        "outputId": "46792323-7db4-4a63-a5f5-a92d384a7c5b"
      },
      "execution_count": null,
      "outputs": [
        {
          "output_type": "execute_result",
          "data": {
            "text/plain": [
              "''"
            ],
            "application/vnd.google.colaboratory.intrinsic+json": {
              "type": "string"
            }
          },
          "metadata": {},
          "execution_count": 42
        }
      ]
    },
    {
      "cell_type": "code",
      "source": [
        "city=\"Rajasthan\"\n",
        "city[-1:-4:-1]"
      ],
      "metadata": {
        "colab": {
          "base_uri": "https://localhost:8080/",
          "height": 36
        },
        "id": "sSB-uy7lFZez",
        "outputId": "787ebb3c-7948-4d68-928f-700a4d67d70a"
      },
      "execution_count": null,
      "outputs": [
        {
          "output_type": "execute_result",
          "data": {
            "text/plain": [
              "'nah'"
            ],
            "application/vnd.google.colaboratory.intrinsic+json": {
              "type": "string"
            }
          },
          "metadata": {},
          "execution_count": 43
        }
      ]
    },
    {
      "cell_type": "code",
      "source": [
        "city=\"Rajasthan\"\n",
        "city[1:]"
      ],
      "metadata": {
        "colab": {
          "base_uri": "https://localhost:8080/",
          "height": 36
        },
        "id": "CGeTP-ayFoAW",
        "outputId": "7f7bee7a-c3a6-448f-92d6-69e4e0f65411"
      },
      "execution_count": null,
      "outputs": [
        {
          "output_type": "execute_result",
          "data": {
            "text/plain": [
              "'ajasthan'"
            ],
            "application/vnd.google.colaboratory.intrinsic+json": {
              "type": "string"
            }
          },
          "metadata": {},
          "execution_count": 45
        }
      ]
    },
    {
      "cell_type": "code",
      "source": [
        "city=\"Rajasthan\"\n",
        "city[:5]"
      ],
      "metadata": {
        "colab": {
          "base_uri": "https://localhost:8080/",
          "height": 36
        },
        "id": "s5Djbk7iF5I6",
        "outputId": "bd31258d-c2cb-4db5-e8aa-7ec230795954"
      },
      "execution_count": null,
      "outputs": [
        {
          "output_type": "execute_result",
          "data": {
            "text/plain": [
              "'Rajas'"
            ],
            "application/vnd.google.colaboratory.intrinsic+json": {
              "type": "string"
            }
          },
          "metadata": {},
          "execution_count": 47
        }
      ]
    },
    {
      "cell_type": "code",
      "source": [
        "city=\"Rajasthan\"\n",
        "city[:5]"
      ],
      "metadata": {
        "id": "CtHSLKN_GBnd"
      },
      "execution_count": null,
      "outputs": []
    }
  ]
}